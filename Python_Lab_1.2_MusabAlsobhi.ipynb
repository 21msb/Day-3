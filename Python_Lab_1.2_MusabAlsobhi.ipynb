{
 "cells": [
  {
   "cell_type": "markdown",
   "metadata": {},
   "source": [
    "# Python_Lab_1.2"
   ]
  },
  {
   "cell_type": "markdown",
   "metadata": {},
   "source": [
    "### Task 1: \n",
    "1. Create a tuple with the following details:\n",
    "    - Your favorite movie (string)\n",
    "    - The year it was released (integer)\n",
    "    - Its rating out of 10 (float)\n",
    "    - Whether you have watched it (boolean)\n",
    "2. Print the detailes"
   ]
  },
  {
   "cell_type": "code",
   "execution_count": 2,
   "metadata": {},
   "outputs": [
    {
     "name": "stdout",
     "output_type": "stream",
     "text": [
      "Best Movie: Forrest Gump\n",
      "Year: 2006\n",
      "Rating out of 10: 9.2\n",
      "Have watched it: True\n"
     ]
    }
   ],
   "source": [
    "movie = (\"Forrest Gump\", 2006, 9.2, True)\n",
    "\n",
    "print(\"Best Movie:\", movie[0])\n",
    "print(\"Year:\", movie[1])\n",
    "print(\"Rating out of 10:\", movie[2])\n",
    "print(\"Have watched it:\", movie[3])"
   ]
  },
  {
   "cell_type": "markdown",
   "metadata": {},
   "source": [
    "### Task 2:\n",
    "1. Create a set of 5 favorite colors.\n",
    "2. Print all the colors"
   ]
  },
  {
   "cell_type": "code",
   "execution_count": 4,
   "metadata": {},
   "outputs": [
    {
     "name": "stdout",
     "output_type": "stream",
     "text": [
      "Yellow\n",
      "White\n",
      "Blue\n",
      "Red\n",
      "Green\n"
     ]
    }
   ],
   "source": [
    "colors = {\"Yellow\", \"Blue\", \"Red\", \"Green\", \"White\"}\n",
    "\n",
    "for color in colors:\n",
    "    print(color)"
   ]
  },
  {
   "cell_type": "markdown",
   "metadata": {},
   "source": [
    "### Task 3:\n",
    "1. Create a dictionary to store information about 3 friends (name as key and a tuple with age and favorite hobby as value).\n",
    "2. Print the details of all friends."
   ]
  },
  {
   "cell_type": "code",
   "execution_count": 30,
   "metadata": {},
   "outputs": [
    {
     "name": "stdout",
     "output_type": "stream",
     "text": [
      "Name: Musab, Age: 23, Hobbey: Football\n",
      "Name: moath, Age: 29, Hobbey: Basketball\n",
      "Name: mohammed, Age: 32, Hobbey: Reading\n"
     ]
    }
   ],
   "source": [
    "friends = {\n",
    "    \"Musab\": (23, \"Football\"),\n",
    "    \"moath\": (29, \"Basketball\"),\n",
    "    \"mohammed\": (32, \"Reading\")\n",
    "}\n",
    "\n",
    "for name, h in friends.items():\n",
    "    \n",
    "    print(\"Name:\", name, end=\", \") \n",
    "    print(\"Age:\", h[0], end=\", \") \n",
    "    print(\"Hobbey:\", h[1])"
   ]
  },
  {
   "cell_type": "markdown",
   "metadata": {},
   "source": [
    "### Task 4:\n",
    "1. Check if you have watched the movie and print an appropriate message.\n",
    "1. Check if a specific color is in your favorite colors set and print its availability status."
   ]
  },
  {
   "cell_type": "code",
   "execution_count": 44,
   "metadata": {},
   "outputs": [
    {
     "name": "stdout",
     "output_type": "stream",
     "text": [
      "Im sure you like it\n",
      "No\n"
     ]
    }
   ],
   "source": [
    "if movie[0] == \"Forrest Gump\":\n",
    "    print(\"Im sure you like it\")\n",
    "else:\n",
    "    print(\"You have to watch it\")\n",
    "\n",
    "color2 = \"black\"\n",
    "\n",
    "if color2 in colors:\n",
    "    print(\"You are right!\")\n",
    "else:\n",
    "    print(\"No\")\n",
    "    "
   ]
  },
  {
   "cell_type": "code",
   "execution_count": null,
   "metadata": {},
   "outputs": [],
   "source": []
  },
  {
   "cell_type": "code",
   "execution_count": null,
   "metadata": {},
   "outputs": [],
   "source": []
  }
 ],
 "metadata": {
  "kernelspec": {
   "display_name": "Python 3 (ipykernel)",
   "language": "python",
   "name": "python3"
  },
  "language_info": {
   "codemirror_mode": {
    "name": "ipython",
    "version": 3
   },
   "file_extension": ".py",
   "mimetype": "text/x-python",
   "name": "python",
   "nbconvert_exporter": "python",
   "pygments_lexer": "ipython3",
   "version": "3.12.4"
  }
 },
 "nbformat": 4,
 "nbformat_minor": 4
}
